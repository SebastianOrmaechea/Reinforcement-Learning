{
  "cells": [
    {
      "cell_type": "markdown",
      "metadata": {
        "id": "view-in-github",
        "colab_type": "text"
      },
      "source": [
        "<a href=\"https://colab.research.google.com/github/SebastianOrmaechea/Reinforcement-Learning/blob/Lab1_RL_Garay/CGaray_lab1_intro_rl.ipynb\" target=\"_parent\"><img src=\"https://colab.research.google.com/assets/colab-badge.svg\" alt=\"Open In Colab\"/></a>"
      ]
    },
    {
      "cell_type": "markdown",
      "metadata": {
        "id": "4spynKMzGS4t"
      },
      "source": [
        "# Notebook 1: Introducción al aprendizaje por refuerzos\n",
        "\n",
        "Curso Aprendizaje por Refuerzos, Diplomatura en Ciencia de Datos, Aprendizaje Automático y sus Aplicaciones\n",
        "\n",
        "FaMAF, 2022"
      ]
    },
    {
      "cell_type": "markdown",
      "metadata": {
        "id": "2mlW-PAFGS4z"
      },
      "source": [
        "## Introducción\n",
        "\n",
        "En el siguiente notebook se muestra cómo ejecutar agentes de aprendizaje por refuerzos, los cuáles son necesarios para realizar este Lab."
      ]
    },
    {
      "cell_type": "markdown",
      "metadata": {
        "id": "DDWVjUNJOFTN"
      },
      "source": [
        "### Repaso rápido\n"
      ]
    },
    {
      "cell_type": "markdown",
      "metadata": {
        "jupyter": {
          "source_hidden": true
        },
        "tags": [],
        "id": "1-xydSRUOFTP"
      },
      "source": [
        "\n",
        "* Recompensa: señal $r$ recibida desde el entorno que recompensa o castiga el agente según su desempeño con respecto al objetivo de la tarea.\n",
        "\n",
        "* Valor: función $v_\\pi (s)$ que establece cuánto el agente espera percibir de recompensa al seguir la política $\\pi$ partiendo desde el estado $s$. También se la suele expresar como $Q_\\pi(s,a)$, indicando cuánto el agente espera percibir siguiendo la política $\\pi$ partiendo desde el estado $s$ y siguiendo la acción $a$.\n",
        "\n",
        "* Política: función $\\pi(s) \\to a$ que mapea un estado a una acción. Se suele expresar como probabilidad de elegir la acción $\\pi(a \\mid s)$. La política $\\epsilon$-greedy, en donde $\\epsilon$ es la probabilidad de exploración (normalmente menor que la probabilidad de explotación) está dada por\n",
        "$$\\pi(a \\mid s) = 1 - \\epsilon$$ si $a$ es la mejor acción, caso contrario $$\\pi(a \\mid s) = \\epsilon$$\n",
        "\n",
        "Por otra parte, en la política Softmax, no se busca la acción con máxima probabilidad sino que se computa la probabilidad de cada una mediante la función Softmax y se realiza un sorteo entre ellas pesado por la misma. Así, para cada acción $a$, $$\\pi(a \\mid s) = \\frac{e^{Q(s,a)/\\tau}}{\\sum_{\\widetilde{a} \\in A}e^{Q(s,\\widetilde{a})/\\tau}}$$"
      ]
    },
    {
      "cell_type": "markdown",
      "metadata": {
        "jupyter": {
          "source_hidden": true
        },
        "tags": [],
        "id": "CxxD5ty3OFTR"
      },
      "source": [
        "En este notebook vemos dos algoritmos para actualizar la función de valor (y, por lo tanto, la política de selección de acciones):\n",
        "\n",
        "* Actualización por SARSA (on-policy).\n",
        "\n",
        "$$Q(s,a) \\gets Q(s,a) + \\alpha (r + \\gamma Q(s',a') - Q(s,a))$$\n",
        "\n",
        "Algoritmo completo (a modo de referencia):\n",
        "\n",
        "![Algoritmo SARSA](https://github.com/DiploDatos/AprendizajePorRefuerzos/blob/master/images/sarsa.png?raw=1)\n"
      ]
    },
    {
      "cell_type": "markdown",
      "metadata": {
        "jupyter": {
          "source_hidden": true
        },
        "tags": [],
        "id": "giEYOpCLOFTS"
      },
      "source": [
        "* Actualización por Q-Learning (off-policy)\n",
        "\n",
        "$$Q(s,a) \\gets Q(s,a) + \\alpha (r + \\gamma \\arg\\max_{a'} Q(s',a') - Q(s,a))$$\n",
        "\n",
        "Algoritmo completo (a modo de referencia):\n",
        "\n",
        "![Algoritmo Q-Learning](https://github.com/DiploDatos/AprendizajePorRefuerzos/blob/master/images/q_learning.png?raw=1)\n",
        "\n",
        "Fuente de las imágenes: capítulo 6 de [Reinforcement Learning: An Introduction](http://www.incompleteideas.net/book/the-book.html)."
      ]
    },
    {
      "cell_type": "markdown",
      "metadata": {
        "id": "a7BO38B6GS4z"
      },
      "source": [
        "## Librería a usar: Librería OpenAI Gym\n",
        "\n",
        "[OpenAI Gym](https://gym.openai.com/) (Brockman et. al., 2016) es una librería de OpenAI que ofrece entornos y una interfaz estándar con la cuál probar nuestros agentes. Su objetivo es proveer benchmarks unificados para ver el desempeño de algoritmos en el entorno y así poder saber con facilidad cómo es su desempeño comparado con los demás. Parte de la siguiente sección está basada en la [documentación oficial de OpenAI](https://gym.openai.com/docs/)."
      ]
    },
    {
      "cell_type": "markdown",
      "metadata": {
        "id": "YY7NVUdpGS40"
      },
      "source": [
        "La interfaz principal de los ambientes de gym es la interfaz Env. La misma posee cinco métodos principales:\n",
        "\n",
        "* ```reset(self)``` : Reinicia el estado del entorno, a su estado inicial, devolviendo una observación de dicho estado.\n",
        "\n",
        "* ```step(self, action)``` : \"Avanza\" un timestep del ambiente. Devuelve: ```observation, reward, done, info```.\n",
        "\n",
        "* ```render(self)``` : Muestra en pantalla una parte del ambiente.\n",
        "\n",
        "* ```close(self)``` : Finaliza con la instancia del agente.\n",
        "\n",
        "* ```seed(self)``` : Establece la semilla aleatoria del generador de números aleatorios del presente entorno.\n",
        "\n",
        "\n",
        "Por otra parte, cada entorno posee los siguientes tres atributos principales:\n",
        "\n",
        "* ```action_space``` : El objeto de tipo Space correspondiente al espacio de acciones válidas.\n",
        "\n",
        "* ```observation_space``` : El objeto de tipo Space correspondiente a todos los rangos posibles de observaciones.\n",
        "\n",
        "* ```reward_range``` : Tupla que contiene los valores mínimo y máximo de recompensa posible."
      ]
    },
    {
      "cell_type": "markdown",
      "metadata": {
        "id": "TTMpnXzcGS40"
      },
      "source": [
        "Algunas de las ejecuciones contienen videos. Para poder verlos se necesita previamente instalar la librería ffmpeg; para instalarla desde Linux ejecutar en consola\n",
        "\n",
        "```apt-get install ffmpeg```\n",
        "\n",
        "desde Mac, reemplazar *apt-get* por *brew*\n",
        "\n",
        "desde Windows, descargarla desde\n",
        "\n",
        "[https://ffmpeg.org/download.html](https://ffmpeg.org/download.html)\n",
        "\n",
        "(Nota: las animaciones son a modo ilustrativo, si no se desea instalar la librería se puede directamente eliminar la línea de código donde se llama al método ``env.render(mode='human')``)"
      ]
    },
    {
      "cell_type": "markdown",
      "metadata": {
        "id": "TZDT_O0UGS40"
      },
      "source": [
        "Código básico de importación y funciones de graficación (no modificar)"
      ]
    },
    {
      "cell_type": "code",
      "execution_count": null,
      "metadata": {
        "hideCode": true,
        "id": "5jUjOuhYGS42",
        "jupyter": {
          "source_hidden": true
        },
        "tags": [
          "hide-cell"
        ]
      },
      "outputs": [],
      "source": [
        "#@title Código básico de graficación (no modificar)\n",
        "\n",
        "import numpy as np\n",
        "import matplotlib.pyplot as plt\n",
        "import itertools\n",
        "import gym\n",
        "\n",
        "def plot_reward_per_episode(reward_ep):\n",
        "\n",
        "    episode_rewards = np.array(reward_ep)\n",
        "\n",
        "    # se suaviza la curva de convergencia\n",
        "    episode_number = np.linspace(1, len(episode_rewards) + 1, len(episode_rewards) + 1)\n",
        "    acumulated_rewards = np.cumsum(episode_rewards)\n",
        "\n",
        "    reward_per_episode = [acumulated_rewards[i] / episode_number[i] for i in range(len(acumulated_rewards))]\n",
        "\n",
        "    plt.plot(reward_per_episode)\n",
        "    plt.title('Recompensa acumulada por episodio')\n",
        "    plt.show()\n",
        "    \n",
        "    \n",
        "def plot_steps_per_episode(timesteps_ep):\n",
        "    # se muestra la curva de aprendizaje de los pasos por episodio\n",
        "    episode_steps = np.array(timesteps_ep)\n",
        "    plt.plot(np.array(range(0, len(episode_steps))), episode_steps)\n",
        "    plt.title('Pasos (timesteps) por episodio')\n",
        "    plt.show()\n",
        "    \n",
        "    \n",
        "def plot_steps_per_episode_smooth(timesteps_ep):\n",
        "    episode_steps = np.array(timesteps_ep)\n",
        "\n",
        "    # se suaviza la curva de aprendizaje\n",
        "    episode_number = np.linspace(1, len(episode_steps) + 1, len(episode_steps) + 1)\n",
        "    acumulated_steps = np.cumsum(episode_steps)\n",
        "\n",
        "    steps_per_episode = [acumulated_steps[i] / episode_number[i] for i in range(len(acumulated_steps))]\n",
        "\n",
        "    plt.plot(steps_per_episode)\n",
        "    plt.title('Pasos (timesteps) acumulados por episodio')\n",
        "    plt.show()\n",
        "    \n",
        "\n",
        "def draw_value_matrix(q):\n",
        "\n",
        "    n_rows = 4\n",
        "    n_columns = 12\n",
        "    n_actions = 4\n",
        "\n",
        "    # se procede con los cálculos previos a la graficación de la matriz de valor\n",
        "    q_value_matrix = np.empty((n_rows, n_columns))\n",
        "    for row in range(n_rows):\n",
        "        for column in range(n_columns):\n",
        "\n",
        "            state_values = []\n",
        "\n",
        "            for action in range(n_actions):\n",
        "                state_values.append(q.get((row * n_columns + column, action), -100))\n",
        "\n",
        "            maximum_value = max(state_values)  # determinamos la acción que arroja máximo valor\n",
        "\n",
        "\n",
        "            q_value_matrix[row, column] = maximum_value\n",
        "\n",
        "    # el valor del estado objetivo se asigna en -1 (reward recibido al llegar) para que se coloree de forma apropiada\n",
        "    q_value_matrix[3, 11] = -1\n",
        "\n",
        "    # se grafica la matriz de valor\n",
        "    plt.imshow(q_value_matrix, cmap=plt.cm.RdYlGn)\n",
        "    plt.tight_layout()\n",
        "    plt.colorbar()\n",
        "\n",
        "    for row, column in itertools.product(range(q_value_matrix.shape[0]), range(q_value_matrix.shape[1])):\n",
        "\n",
        "        left_action = q.get((row * n_columns + column, 3), -1000)\n",
        "        down_action = q.get((row * n_columns + column, 2), -1000)\n",
        "        right_action = q.get((row * n_columns + column, 1), -1000)\n",
        "        up_action = q.get((row * n_columns + column, 0), -1000)\n",
        "\n",
        "        arrow_direction = 'D'\n",
        "        best_action = down_action\n",
        "\n",
        "        if best_action < right_action:\n",
        "            arrow_direction = 'R'\n",
        "            best_action = right_action\n",
        "        if best_action < left_action:\n",
        "            arrow_direction = 'L'\n",
        "            best_action = left_action\n",
        "        if best_action < up_action:\n",
        "            arrow_direction = 'U'\n",
        "            best_action = up_action\n",
        "        if best_action == -1:\n",
        "            arrow_direction = ''\n",
        "\n",
        "        # notar que column, row están invertidos en orden en la línea de abajo porque representan a x,y del plot\n",
        "        plt.text(column, row, arrow_direction, horizontalalignment=\"center\")\n",
        "\n",
        "    plt.xticks([])\n",
        "    plt.yticks([])\n",
        "    plt.show()\n",
        "\n",
        "    print('\\n Matriz de mejor acción-valor (en números): \\n\\n', q_value_matrix)"
      ]
    },
    {
      "cell_type": "markdown",
      "metadata": {
        "id": "yJ1y2VTGGS42"
      },
      "source": [
        "Ejemplo: agente CartPole"
      ]
    },
    {
      "cell_type": "code",
      "source": [
        "!pip install ipython-autotime\n",
        "%load_ext autotime"
      ],
      "metadata": {
        "colab": {
          "base_uri": "https://localhost:8080/"
        },
        "id": "J1bMjKi2Perq",
        "outputId": "72a1a6e8-dc60-457b-eba4-d5220aab0fb2"
      },
      "execution_count": null,
      "outputs": [
        {
          "output_type": "stream",
          "name": "stdout",
          "text": [
            "Looking in indexes: https://pypi.org/simple, https://us-python.pkg.dev/colab-wheels/public/simple/\n",
            "Requirement already satisfied: ipython-autotime in /usr/local/lib/python3.7/dist-packages (0.3.1)\n",
            "Requirement already satisfied: ipython in /usr/local/lib/python3.7/dist-packages (from ipython-autotime) (7.9.0)\n",
            "Requirement already satisfied: decorator in /usr/local/lib/python3.7/dist-packages (from ipython->ipython-autotime) (4.4.2)\n",
            "Requirement already satisfied: pickleshare in /usr/local/lib/python3.7/dist-packages (from ipython->ipython-autotime) (0.7.5)\n",
            "Requirement already satisfied: prompt-toolkit<2.1.0,>=2.0.0 in /usr/local/lib/python3.7/dist-packages (from ipython->ipython-autotime) (2.0.10)\n",
            "Requirement already satisfied: pygments in /usr/local/lib/python3.7/dist-packages (from ipython->ipython-autotime) (2.6.1)\n",
            "Requirement already satisfied: pexpect in /usr/local/lib/python3.7/dist-packages (from ipython->ipython-autotime) (4.8.0)\n",
            "Requirement already satisfied: traitlets>=4.2 in /usr/local/lib/python3.7/dist-packages (from ipython->ipython-autotime) (5.1.1)\n",
            "Requirement already satisfied: setuptools>=18.5 in /usr/local/lib/python3.7/dist-packages (from ipython->ipython-autotime) (57.4.0)\n",
            "Requirement already satisfied: jedi>=0.10 in /usr/local/lib/python3.7/dist-packages (from ipython->ipython-autotime) (0.18.1)\n",
            "Requirement already satisfied: backcall in /usr/local/lib/python3.7/dist-packages (from ipython->ipython-autotime) (0.2.0)\n",
            "Requirement already satisfied: parso<0.9.0,>=0.8.0 in /usr/local/lib/python3.7/dist-packages (from jedi>=0.10->ipython->ipython-autotime) (0.8.3)\n",
            "Requirement already satisfied: wcwidth in /usr/local/lib/python3.7/dist-packages (from prompt-toolkit<2.1.0,>=2.0.0->ipython->ipython-autotime) (0.2.5)\n",
            "Requirement already satisfied: six>=1.9.0 in /usr/local/lib/python3.7/dist-packages (from prompt-toolkit<2.1.0,>=2.0.0->ipython->ipython-autotime) (1.15.0)\n",
            "Requirement already satisfied: ptyprocess>=0.5 in /usr/local/lib/python3.7/dist-packages (from pexpect->ipython->ipython-autotime) (0.7.0)\n",
            "time: 570 µs (started: 2022-10-11 03:03:18 +00:00)\n"
          ]
        }
      ]
    },
    {
      "cell_type": "code",
      "execution_count": null,
      "metadata": {
        "id": "YPkxgtSiGS43",
        "colab": {
          "base_uri": "https://localhost:8080/"
        },
        "outputId": "fb8db279-e5e3-4be1-e1b0-8f32822373fa"
      },
      "outputs": [
        {
          "output_type": "stream",
          "name": "stdout",
          "text": [
            "time: 1.95 ms (started: 2022-10-11 03:03:18 +00:00)\n"
          ]
        }
      ],
      "source": [
        "import numpy as np\n",
        "import gym\n",
        "import time\n",
        "from IPython.display import clear_output\n",
        "\n",
        "try:\n",
        "  import google.colab\n",
        "  IN_COLAB = True\n",
        "except:\n",
        "  IN_COLAB = False\n",
        "\n",
        "# no es posible mostrar videos de ejecución del agente desde Colab\n",
        "if not IN_COLAB:\n",
        "\n",
        "    env = gym.make('CartPole-v0')\n",
        "    env.reset()\n",
        "    for _ in range(500):\n",
        "        env.render(mode='human')\n",
        "        observation, reward, done, info = env.step(env.action_space.sample()) # se ejecuta una acción aleatoria\n",
        "        if done:\n",
        "            env.reset()\n",
        "    env.close()\n",
        "    clear_output()"
      ]
    },
    {
      "cell_type": "markdown",
      "metadata": {
        "id": "UQ_A87JtGS43"
      },
      "source": [
        "Ejemplo: agente Mountain Car"
      ]
    },
    {
      "cell_type": "code",
      "execution_count": null,
      "metadata": {
        "id": "QHDTjlpEGS43",
        "colab": {
          "base_uri": "https://localhost:8080/"
        },
        "outputId": "b9108458-26fc-4308-81d4-362f95341e8a"
      },
      "outputs": [
        {
          "output_type": "stream",
          "name": "stdout",
          "text": [
            "time: 2.27 ms (started: 2022-10-11 03:03:18 +00:00)\n"
          ]
        }
      ],
      "source": [
        "if not IN_COLAB:\n",
        "    env = gym.make('MountainCar-v0')\n",
        "    observation = env.reset()\n",
        "    for t in range(500):\n",
        "        env.render(mode='human')\n",
        "        action = env.action_space.sample()\n",
        "        observation, reward, done, info = env.step(action)\n",
        "        if done:\n",
        "            print(\"Episode finished after {} timesteps\".format(t+1))\n",
        "            break\n",
        "    env.close()\n",
        "    clear_output()"
      ]
    },
    {
      "cell_type": "markdown",
      "metadata": {
        "id": "NrdYut6HGS44"
      },
      "source": [
        "## Ejemplo 1: The Cliff. \n"
      ]
    },
    {
      "cell_type": "markdown",
      "metadata": {
        "id": "P6bNIHCQGS44"
      },
      "source": [
        "![](https://github.com/GIDISIA/RLDiplodatos/blob/master/images/cliffwalking.png?raw=1)\n",
        "\n",
        "donde S= starting point, G= goal\n",
        "\n",
        "(imagen de Sutton y Barto, 2018)"
      ]
    },
    {
      "cell_type": "markdown",
      "metadata": {
        "id": "VYvKmWcsGS44"
      },
      "source": [
        "Descripción del entorno:\n",
        "\n",
        "Acciones:\n",
        "\n",
        "* $\\uparrow$ - Arriba\n",
        "* $\\downarrow$ - Abajo\n",
        "* $\\rightarrow$ - Derecha\n",
        "* $\\leftarrow$ - Izquierda\n",
        "\n",
        "Función de recompensa:\n",
        "\n",
        "* $-1$ en todos los demás estados \n",
        "* $-100$ en el acantilado\n",
        "\n",
        "Nota: caer en el acantilado devuelve al agente al estado inicial en un mismo episodio"
      ]
    },
    {
      "cell_type": "markdown",
      "metadata": {
        "id": "XZ2D3hokGS44"
      },
      "source": [
        "Vemos los bloques básicos de nuestro agente"
      ]
    },
    {
      "cell_type": "markdown",
      "metadata": {
        "id": "yKgvYRiOGS44"
      },
      "source": [
        "Definimos el método de elección de acciones. En este caso el mismo utiliza la política de exploración $\\epsilon$-greedy."
      ]
    },
    {
      "cell_type": "code",
      "execution_count": null,
      "metadata": {
        "id": "T8XHFSZiGS44",
        "colab": {
          "base_uri": "https://localhost:8080/"
        },
        "outputId": "6ee36c78-bfc9-4080-ad9b-1d7ea9c12224"
      },
      "outputs": [
        {
          "output_type": "stream",
          "name": "stdout",
          "text": [
            "time: 1.68 ms (started: 2022-10-11 03:03:18 +00:00)\n"
          ]
        }
      ],
      "source": [
        "def choose_action(state):\n",
        "    \"\"\"\n",
        "    Chooses an action according to the learning previously performed \n",
        "    using an epsilon-greedy exploration policy\n",
        "    \"\"\"\n",
        "    q_values = [q.get((state, a), 0.0) for a in actions]  # ej: para 4 acciones inicializa en [0,0,0,0]\n",
        "    max_q = max(q_values)\n",
        "\n",
        "    if random_state.uniform() < epsilon:  # sorteamos un número: es menor a épsilon?\n",
        "        return random_state.choice(actions)  # sí: se selecciona una acción aleatoria\n",
        "\n",
        "    count = q_values.count(max_q)\n",
        "\n",
        "    \n",
        "    # hay más de un máximo valor de estado-acción?\n",
        "    if count > 1:\n",
        "        # sí: seleccionamos uno de ellos aleatoriamente\n",
        "        best = [i for i in range(len(actions)) if q_values[i] == max_q]\n",
        "        i = random_state.choice(best)\n",
        "    else:\n",
        "        # no: seleccionamos el máximo valor de estado-acción\n",
        "        i = q_values.index(max_q)\n",
        "\n",
        "    return actions[i]"
      ]
    },
    {
      "cell_type": "markdown",
      "metadata": {
        "id": "fH6yG3UNGS45"
      },
      "source": [
        "Definimos el esqueleto del método learn, el cuál toma una transición y cambia el dict de los valores de Q de acuerdo a algún algoritmo."
      ]
    },
    {
      "cell_type": "code",
      "execution_count": null,
      "metadata": {
        "id": "5RgIJcbGGS45",
        "colab": {
          "base_uri": "https://localhost:8080/"
        },
        "outputId": "5b964b9e-2eb7-4c89-c981-948947388a7b"
      },
      "outputs": [
        {
          "output_type": "stream",
          "name": "stdout",
          "text": [
            "time: 679 µs (started: 2022-10-11 03:03:18 +00:00)\n"
          ]
        }
      ],
      "source": [
        "def learn(state, action, reward, next_state, next_action):\n",
        "    \"\"\"\n",
        "    Performs a SARSA update for a given state transition\n",
        "    \"\"\"\n",
        "    \n",
        "    # TODO - completa con tu código aquí\n",
        "    \n",
        "    pass"
      ]
    },
    {
      "cell_type": "markdown",
      "metadata": {
        "id": "9xrOq-6jGS45"
      },
      "source": [
        "Finalmente, definimos el método principal de iteraciones. "
      ]
    },
    {
      "cell_type": "code",
      "execution_count": null,
      "metadata": {
        "id": "EatmEq8XGS45",
        "colab": {
          "base_uri": "https://localhost:8080/"
        },
        "outputId": "383d7f01-526f-44df-cd02-a4c3ddf44081"
      },
      "outputs": [
        {
          "output_type": "stream",
          "name": "stdout",
          "text": [
            "time: 2.39 ms (started: 2022-10-11 03:03:18 +00:00)\n"
          ]
        }
      ],
      "source": [
        "def run():\n",
        "    \"\"\"\n",
        "    Runs the reinforcement learning agent with a given configuration.\n",
        "    \"\"\"\n",
        "    timesteps_of_episode = []  # registro de la cantidad de pasos que le llevó en cada episodio\n",
        "    reward_of_episode = []  # cantidad de recompensa que recibió el agente en cada episodio\n",
        "\n",
        "    for i_episode in range(episodes_to_run):\n",
        "        # se ejecuta una instancia del agente hasta que el mismo llega a la salida\n",
        "        # o tarda más de 2000 pasos\n",
        "\n",
        "        # reinicia el ambiente, obteniendo el estado inicial del mismo\n",
        "        state = env.reset()\n",
        "\n",
        "        episode_reward = 0\n",
        "        done = False\n",
        "        t = 0\n",
        "\n",
        "        # elige una acción basado en el estado actual\n",
        "        action = choose_action(state)\n",
        "        \n",
        "        while not done:\n",
        "\n",
        "            # el agente ejecuta la acción elegida y obtiene los resultados\n",
        "            next_state, reward, done, info = env.step(action)\n",
        "            \n",
        "            next_action = choose_action(next_state)\n",
        "            \n",
        "\n",
        "            episode_reward += reward\n",
        "            learn(state, action, reward, next_state, next_action) #USO DE LEARN\n",
        "\n",
        "            if not done and t < 2000:  # if the algorithm does not converge, it stops after 2000 timesteps\n",
        "                state = next_state\n",
        "                action = next_action\n",
        "            else:\n",
        "                # el algoritmo no ha podido llegar a la meta antes de dar 2000 pasos\n",
        "                done = True  # se establece manualmente la bandera done\n",
        "                timesteps_of_episode = np.append(timesteps_of_episode, [int(t + 1)])\n",
        "                reward_of_episode = np.append(reward_of_episode, max(episode_reward, -100))\n",
        "\n",
        "            t += 1\n",
        "\n",
        "    return reward_of_episode.mean(), timesteps_of_episode, reward_of_episode"
      ]
    },
    {
      "cell_type": "markdown",
      "metadata": {
        "id": "YQqcI9RTGS46"
      },
      "source": [
        "Definidos los métodos básicos, procedemos a instanciar a nuestro agente."
      ]
    },
    {
      "cell_type": "code",
      "execution_count": null,
      "metadata": {
        "id": "JWE7qhNvGS46",
        "colab": {
          "base_uri": "https://localhost:8080/"
        },
        "outputId": "92b53ed6-a707-48be-c8be-f64aadf4f45a"
      },
      "outputs": [
        {
          "output_type": "stream",
          "name": "stdout",
          "text": [
            "time: 16.1 ms (started: 2022-10-11 03:03:18 +00:00)\n"
          ]
        },
        {
          "output_type": "stream",
          "name": "stderr",
          "text": [
            "/usr/local/lib/python3.7/dist-packages/gym/core.py:318: DeprecationWarning: \u001b[33mWARN: Initializing wrapper in old step API which returns one bool instead of two. It is recommended to set `new_step_api=True` to use new step API. This will be the default behaviour in future.\u001b[0m\n",
            "  \"Initializing wrapper in old step API which returns one bool instead of two. It is recommended to set `new_step_api=True` to use new step API. This will be the default behaviour in future.\"\n",
            "/usr/local/lib/python3.7/dist-packages/gym/wrappers/step_api_compatibility.py:40: DeprecationWarning: \u001b[33mWARN: Initializing environment in old step API which returns one bool instead of two. It is recommended to set `new_step_api=True` to use new step API. This will be the default behaviour in future.\u001b[0m\n",
            "  \"Initializing environment in old step API which returns one bool instead of two. It is recommended to set `new_step_api=True` to use new step API. This will be the default behaviour in future.\"\n"
          ]
        }
      ],
      "source": [
        "# se crea el diccionario que contendrá los valores de Q para cada tupla (estado, acción)\n",
        "q = {}\n",
        "\n",
        "# definimos sus híper-parámetros básicos\n",
        "\n",
        "alpha = 0.5\n",
        "gamma = 1\n",
        "epsilon = 0.1\n",
        "tau = 25\n",
        "\n",
        "episodes_to_run = 500\n",
        "\n",
        "env = gym.make(\"CliffWalking-v0\")\n",
        "actions = range(env.action_space.n)\n",
        "\n",
        "# se declara una semilla aleatoria\n",
        "random_state = np.random.RandomState(42)"
      ]
    },
    {
      "cell_type": "markdown",
      "metadata": {
        "id": "3nBgpEltGS47"
      },
      "source": [
        "Ya instanciado, ejecutamos nuestro agente"
      ]
    },
    {
      "cell_type": "code",
      "execution_count": null,
      "metadata": {
        "id": "r_Y6EMN3GS47",
        "colab": {
          "base_uri": "https://localhost:8080/"
        },
        "outputId": "0874cf16-d9a7-4902-c4ca-849478af8f13"
      },
      "outputs": [
        {
          "output_type": "stream",
          "name": "stdout",
          "text": [
            "time: 55.5 s (started: 2022-10-11 03:03:18 +00:00)\n"
          ]
        }
      ],
      "source": [
        "avg_steps_per_episode, timesteps_ep, reward_ep = run()"
      ]
    },
    {
      "cell_type": "markdown",
      "metadata": {
        "id": "LgNpJUV9GS47"
      },
      "source": [
        "### Análisis de la ejecución del agente\n",
        "\n",
        "#### Análisis de convergencia\n",
        "\n",
        "A diferencia de lo que sucede en el aprendizaje supervisado, en el aprendizaje por refuerzos el rendimiento se evalúa por una función específica que es la función de recompensa. En la práctica, la función de recompensa puede ser externa (y provista por el entorno) o bien puede ser una función creada por diseño (a modo de dirigir el agente hacia lo que por diseño se considera mejor, en nuestro ejemplo podría ser con una recompensa de $+1$ cada vez que el agente llega al estado objetivo). Esto se conoce como *reward shaping*, y hay que tener mucho cuidado con los posibles efectos secundarios de su uso.\n",
        "\n",
        "Como el objetivo de RL es maximizar la recompensa obtenida, es posible utilizar la información sobre la obtención de la recompensas en cada time-step o episodio para evaluar el rendimiento parcial del agente (esto depende mucho de la particularidad de la distribución de la recompensa para el problema tratado)."
      ]
    },
    {
      "cell_type": "markdown",
      "metadata": {
        "id": "yiciXUMeGS47"
      },
      "source": [
        "Para analizar la ejecución del agente, vamos a ver cómo se desempeñó el mismo en dos curvas:\n",
        "\n",
        "* Recompensa obtenida en cada episodio: nos dirá cuánta recompensa obtuvo el agente sumando cada una de recompensas individuales de cada episodio. Con esta medida podremos tener una noción de cómo se desempeñó esquivando el acantilado y llegando lo antes posible a la meta.\n",
        "\n",
        "* Pasos transcurridos en cada episodio: indicará cuántos pasos le ha llevado al agente la ejecución del episodio.\n",
        "\n",
        "Se estila suavizar ambas curvas para apreciar mejor su progresión (aunque a veces suele analizarse la curva de pasos por episodio sin suavizar)."
      ]
    },
    {
      "cell_type": "markdown",
      "metadata": {
        "id": "QQKMwQ2mGS47"
      },
      "source": [
        "Veamos recompensa por episodio (recordar que en este entorno cada paso otorga una recompensa de $-1$ excepto al caer al acantilado, donde la recompensa es de $-100$)"
      ]
    },
    {
      "cell_type": "code",
      "execution_count": null,
      "metadata": {
        "colab": {
          "base_uri": "https://localhost:8080/"
        },
        "id": "SsDunXlHGS47",
        "outputId": "2ea5bc22-3718-4b7f-860d-731a3d250604"
      },
      "outputs": [
        {
          "output_type": "display_data",
          "data": {
            "text/plain": [
              "<Figure size 432x288 with 1 Axes>"
            ],
            "image/png": "[encoded data removed]"
          },
          "metadata": {
            "needs_background": "light"
          }
        },
        {
          "output_type": "stream",
          "name": "stdout",
          "text": [
            "time: 142 ms (started: 2022-10-11 03:04:14 +00:00)\n"
          ]
        }
      ],
      "source": [
        "plot_reward_per_episode(reward_ep)"
      ]
    },
    {
      "cell_type": "markdown",
      "metadata": {
        "id": "EjznrgIeGS48"
      },
      "source": [
        "Veamos pasos por episodio"
      ]
    },
    {
      "cell_type": "code",
      "execution_count": null,
      "metadata": {
        "colab": {
          "base_uri": "https://localhost:8080/"
        },
        "id": "7AaVw7EEGS48",
        "outputId": "35fe5e47-ef4d-4d5a-930e-dfe3b98235f7"
      },
      "outputs": [
        {
          "output_type": "display_data",
          "data": {
            "text/plain": [
              "<Figure size 432x288 with 1 Axes>"
            ],
            "image/png": "[encoded data removed]"
          },
          "metadata": {
            "needs_background": "light"
          }
        },
        {
          "output_type": "stream",
          "name": "stdout",
          "text": [
            "time: 170 ms (started: 2022-10-11 03:04:14 +00:00)\n"
          ]
        }
      ],
      "source": [
        "plot_steps_per_episode(timesteps_ep)"
      ]
    },
    {
      "cell_type": "markdown",
      "metadata": {
        "id": "_BB8NDDhGS49"
      },
      "source": [
        "Suavizando..."
      ]
    },
    {
      "cell_type": "code",
      "execution_count": null,
      "metadata": {
        "colab": {
          "base_uri": "https://localhost:8080/"
        },
        "id": "NaAXjfdKGS49",
        "outputId": "bc281b69-ed1b-4d12-d1ed-4ffc5e07f2fe"
      },
      "outputs": [
        {
          "output_type": "display_data",
          "data": {
            "text/plain": [
              "<Figure size 432x288 with 1 Axes>"
            ],
            "image/png": "[encoded data removed]"
          },
          "metadata": {
            "needs_background": "light"
          }
        },
        {
          "output_type": "stream",
          "name": "stdout",
          "text": [
            "time: 147 ms (started: 2022-10-11 03:04:14 +00:00)\n"
          ]
        }
      ],
      "source": [
        "plot_steps_per_episode_smooth(timesteps_ep)"
      ]
    },
    {
      "cell_type": "markdown",
      "metadata": {
        "id": "QI7pxgtoGS49"
      },
      "source": [
        "#### Análisis de matriz de acción-valor y política óptima\n",
        "\n",
        "Siendo que este es un ejemplo tabular y de pocos estados / acciones, es posible realizar un análisis de convergencia desde otro punto de vista: desde el valor de la función $Q(s,a)$ para la mejor acción de cada estado, al finalizar el entrenamiento del agente, (sería la acción que el agente ejecutaría en cada estado bajo una política *greedy*). Ambos nos brindarán información sobre la convergencia alcanzada por el agente.\n",
        "\n",
        "Tener en cuenta que este análisis se hace principalmente con fines educativos, para entornos más complejos el mismo puede no ser factible. En tales casos, un análisis alternativo podría consistir en hacer que el agente ejecute su política para la que fue entrenado, para hacer una evaluación a partir del comportamiento del mismo (esto último sería el *test de la política*, frente al *entrenamiento de la política* previo)."
      ]
    },
    {
      "cell_type": "code",
      "execution_count": null,
      "metadata": {
        "colab": {
          "base_uri": "https://localhost:8080/"
        },
        "id": "rMpKRT2NGS4-",
        "outputId": "997c4d7b-be69-4489-9dd6-2f33a5f0e37a"
      },
      "outputs": [
        {
          "output_type": "display_data",
          "data": {
            "text/plain": [
              "<Figure size 432x288 with 2 Axes>"
            ],
            "image/png": "[encoded data removed]"
          },
          "metadata": {
            "needs_background": "light"
          }
        },
        {
          "output_type": "stream",
          "name": "stdout",
          "text": [
            "\n",
            " Matriz de mejor acción-valor (en números): \n",
            "\n",
            " [[-100. -100. -100. -100. -100. -100. -100. -100. -100. -100. -100. -100.]\n",
            " [-100. -100. -100. -100. -100. -100. -100. -100. -100. -100. -100. -100.]\n",
            " [-100. -100. -100. -100. -100. -100. -100. -100. -100. -100. -100. -100.]\n",
            " [-100. -100. -100. -100. -100. -100. -100. -100. -100. -100. -100.   -1.]]\n",
            "time: 351 ms (started: 2022-10-11 03:04:14 +00:00)\n"
          ]
        }
      ],
      "source": [
        "draw_value_matrix(q)"
      ]
    },
    {
      "cell_type": "code",
      "execution_count": null,
      "metadata": {
        "id": "ce50gtxcGS4-",
        "colab": {
          "base_uri": "https://localhost:8080/"
        },
        "outputId": "51e26f4d-24eb-4cbd-9813-470c64ad4cb6"
      },
      "outputs": [
        {
          "output_type": "stream",
          "name": "stdout",
          "text": [
            "time: 1.47 ms (started: 2022-10-11 03:04:15 +00:00)\n"
          ]
        }
      ],
      "source": [
        "env.close()"
      ]
    },
    {
      "cell_type": "markdown",
      "metadata": {
        "id": "9VQRIwfLGS4-",
        "tags": []
      },
      "source": [
        "## **Actividades**\n",
        "\n",
        "###**1. Implementar y ejecutar el algoritmo SARSA en \"The Cliff\".**\n"
      ]
    },
    {
      "cell_type": "code",
      "source": [
        "def choose_action(state):\n",
        "    \"\"\"\n",
        "    Chooses an action according to the learning previously performed \n",
        "    using an epsilon-greedy exploration policy\n",
        "    \"\"\"\n",
        "    q_values = [q.get((state, a), 0.0) for a in actions]  # ej: para 4 acciones inicializa en [0,0,0,0]\n",
        "    max_q = max(q_values)\n",
        "\n",
        "    if random_state.uniform() < epsilon:  # sorteamos un número: es menor a épsilon?\n",
        "        return random_state.choice(actions)  # sí: se selecciona una acción aleatoria\n",
        "\n",
        "    count = q_values.count(max_q)\n",
        "\n",
        "    \n",
        "    # hay más de un máximo valor de estado-acción?\n",
        "    if count > 1:\n",
        "        # sí: seleccionamos uno de ellos aleatoriamente\n",
        "        best = [i for i in range(len(actions)) if q_values[i] == max_q]\n",
        "        i = random_state.choice(best)\n",
        "    else:\n",
        "        # no: seleccionamos el máximo valor de estado-acción\n",
        "        i = q_values.index(max_q)\n",
        "\n",
        "    return actions[i]"
      ],
      "metadata": {
        "colab": {
          "base_uri": "https://localhost:8080/"
        },
        "id": "-fAB3Fy65nOI",
        "outputId": "0b205305-0d6c-4af8-8682-484575a5c4dd"
      },
      "execution_count": null,
      "outputs": [
        {
          "output_type": "stream",
          "name": "stdout",
          "text": [
            "time: 6.3 ms (started: 2022-10-11 03:04:15 +00:00)\n"
          ]
        }
      ]
    },
    {
      "cell_type": "code",
      "source": [
        "def learnSARSA(state, action, reward, next_state, next_action):\n",
        "    \"\"\"\n",
        "    Performs a SARSA update for a given state transition\n",
        "    \"\"\"\n",
        "    \n",
        "    # TODO - completa con tu código aquí\n",
        "    predict = q.get((state, action),0.0)\n",
        "    target = reward + gamma * q.get((next_state, next_action),0.0) \n",
        "    q[(state,action)] = predict + alpha*(target-predict)\n",
        "    pass\n"
      ],
      "metadata": {
        "colab": {
          "base_uri": "https://localhost:8080/"
        },
        "id": "mHPoe90OFe-n",
        "outputId": "adbf5e69-bf76-46b7-dbdc-26cc2e854eb6"
      },
      "execution_count": null,
      "outputs": [
        {
          "output_type": "stream",
          "name": "stdout",
          "text": [
            "time: 8.19 ms (started: 2022-10-11 03:04:15 +00:00)\n"
          ]
        }
      ]
    },
    {
      "cell_type": "code",
      "source": [
        "# Creamos el diccionario que contendrá los valores de Q para cada tupla (estado, acción)\n",
        "q = {}\n",
        "\n",
        "# definimos sus híper-parámetros básicos\n",
        "\n",
        "alpha = 0.5\n",
        "gamma = 1\n",
        "epsilon = 0.1\n",
        "tau = 25\n",
        "\n",
        "episodes_to_run = 500\n",
        "\n",
        "env = gym.make(\"CliffWalking-v0\")\n",
        "actions = range(env.action_space.n)\n",
        "\n",
        "# se declara una semilla aleatoria\n",
        "random_state = np.random.RandomState(42)"
      ],
      "metadata": {
        "colab": {
          "base_uri": "https://localhost:8080/"
        },
        "id": "WNYeDyZKGMeW",
        "outputId": "fc00620f-aa40-4502-d6df-86d5f9301bf4"
      },
      "execution_count": null,
      "outputs": [
        {
          "output_type": "stream",
          "name": "stdout",
          "text": [
            "time: 25.5 ms (started: 2022-10-11 03:04:15 +00:00)\n"
          ]
        },
        {
          "output_type": "stream",
          "name": "stderr",
          "text": [
            "/usr/local/lib/python3.7/dist-packages/gym/core.py:318: DeprecationWarning: \u001b[33mWARN: Initializing wrapper in old step API which returns one bool instead of two. It is recommended to set `new_step_api=True` to use new step API. This will be the default behaviour in future.\u001b[0m\n",
            "  \"Initializing wrapper in old step API which returns one bool instead of two. It is recommended to set `new_step_api=True` to use new step API. This will be the default behaviour in future.\"\n",
            "/usr/local/lib/python3.7/dist-packages/gym/wrappers/step_api_compatibility.py:40: DeprecationWarning: \u001b[33mWARN: Initializing environment in old step API which returns one bool instead of two. It is recommended to set `new_step_api=True` to use new step API. This will be the default behaviour in future.\u001b[0m\n",
            "  \"Initializing environment in old step API which returns one bool instead of two. It is recommended to set `new_step_api=True` to use new step API. This will be the default behaviour in future.\"\n"
          ]
        }
      ]
    },
    {
      "cell_type": "code",
      "source": [
        "def run():\n",
        "    \"\"\"\n",
        "    Runs the reinforcement learning agent with a given configuration.\n",
        "    \"\"\"\n",
        "    # list that contains the amount of time-steps of the episode. It is used as a way to score the performance of\n",
        "    # the agent.\n",
        "    timesteps_of_episode = []\n",
        "    # list that contains the amount of reward given to the agent in each episode\n",
        "    reward_of_episode = []\n",
        "\n",
        "    for i_episode in range(episodes_to_run):\n",
        "        # an instance of an episode is run until it fails or until it reaches 200 time-steps\n",
        "\n",
        "        # resets the environment, obtaining the first state observation\n",
        "        state = env.reset()\n",
        "\n",
        "        episode_reward = 0\n",
        "        done = False\n",
        "        t = 0\n",
        "\n",
        "        # Pick an action based on the current state\n",
        "        action = choose_action(state)\n",
        "        #action = random_state.choice(actions)\n",
        "        \n",
        "        while not done:\n",
        "\n",
        "            # Execute the action and get feedback\n",
        "            next_state, reward, done, info = env.step(action)\n",
        "            \n",
        "            next_action = choose_action(state)\n",
        "            #next_action = random_state.choice(actions)\n",
        "            \n",
        "            episode_reward += reward\n",
        "\n",
        "            if not done and t < 2000:  # if the algorithm does not converge, it stops after 2000 timesteps\n",
        "                learnSARSA(state, action, reward, next_state, next_action)\n",
        "                state = next_state\n",
        "                action = next_action\n",
        "            else:\n",
        "                done = True  # done is ensured to be True (in the case the algorithm did not reach convergence)\n",
        "                learnSARSA(state, action, reward, next_state, next_action)\n",
        "                timesteps_of_episode = np.append(timesteps_of_episode, [int(t + 1)])\n",
        "                reward_of_episode = np.append(reward_of_episode, max(episode_reward, -100))\n",
        "\n",
        "            t += 1\n",
        "\n",
        "    return reward_of_episode.mean(), timesteps_of_episode, reward_of_episode"
      ],
      "metadata": {
        "colab": {
          "base_uri": "https://localhost:8080/"
        },
        "id": "rJ0q-ciE7dbB",
        "outputId": "ae31edba-b7cc-468d-ff5a-9d147b351165"
      },
      "execution_count": null,
      "outputs": [
        {
          "output_type": "stream",
          "name": "stdout",
          "text": [
            "time: 9.38 ms (started: 2022-10-11 03:04:15 +00:00)\n"
          ]
        }
      ]
    },
    {
      "cell_type": "code",
      "source": [
        "# Ejecutamos el agente\n",
        "avg_steps_per_episode, timesteps_ep, reward_ep = run()"
      ],
      "metadata": {
        "colab": {
          "base_uri": "https://localhost:8080/"
        },
        "id": "mLJOr433Ga1g",
        "outputId": "1a719cfc-3eed-4eea-9e9e-156128019bb6"
      },
      "execution_count": null,
      "outputs": [
        {
          "output_type": "stream",
          "name": "stdout",
          "text": [
            "time: 1.23 s (started: 2022-10-11 03:04:15 +00:00)\n"
          ]
        }
      ]
    },
    {
      "cell_type": "code",
      "source": [
        "# Ploteamos el reward a lo largo de los episodios en forma acumulada\n",
        "plot_reward_per_episode(reward_ep)"
      ],
      "metadata": {
        "colab": {
          "base_uri": "https://localhost:8080/",
          "height": 299
        },
        "id": "OMxz4slFGd2Z",
        "outputId": "10be1837-cdfb-494f-e8b2-58e249cf5aa7"
      },
      "execution_count": null,
      "outputs": [
        {
          "output_type": "display_data",
          "data": {
            "text/plain": [
              "<Figure size 432x288 with 1 Axes>"
            ],
            "image/png": "[encoded data removed]"
          },
          "metadata": {
            "needs_background": "light"
          }
        },
        {
          "output_type": "stream",
          "name": "stdout",
          "text": [
            "time: 182 ms (started: 2022-10-11 03:04:16 +00:00)\n"
          ]
        }
      ]
    },
    {
      "cell_type": "code",
      "source": [
        "# Ploteamos el reward para cada episodio\n",
        "plot_steps_per_episode(timesteps_ep)"
      ],
      "metadata": {
        "colab": {
          "base_uri": "https://localhost:8080/",
          "height": 299
        },
        "id": "5uAQJI7PGvsY",
        "outputId": "e3ca857e-4f84-428e-a0df-280b2fd0e454"
      },
      "execution_count": null,
      "outputs": [
        {
          "output_type": "display_data",
          "data": {
            "text/plain": [
              "<Figure size 432x288 with 1 Axes>"
            ],
            "image/png": "[encoded data removed]"
          },
          "metadata": {
            "needs_background": "light"
          }
        },
        {
          "output_type": "stream",
          "name": "stdout",
          "text": [
            "time: 143 ms (started: 2022-10-11 03:04:16 +00:00)\n"
          ]
        }
      ]
    },
    {
      "cell_type": "code",
      "source": [
        "plot_steps_per_episode_smooth(timesteps_ep)"
      ],
      "metadata": {
        "colab": {
          "base_uri": "https://localhost:8080/",
          "height": 299
        },
        "id": "RWk4WbqMHM96",
        "outputId": "8ce045b7-bdb7-4f5c-9529-91511fd92fd5"
      },
      "execution_count": null,
      "outputs": [
        {
          "output_type": "display_data",
          "data": {
            "text/plain": [
              "<Figure size 432x288 with 1 Axes>"
            ],
            "image/png": "[encoded data removed]"
          },
          "metadata": {
            "needs_background": "light"
          }
        },
        {
          "output_type": "stream",
          "name": "stdout",
          "text": [
            "time: 137 ms (started: 2022-10-11 03:04:16 +00:00)\n"
          ]
        }
      ]
    },
    {
      "cell_type": "code",
      "source": [
        "draw_value_matrix(q)"
      ],
      "metadata": {
        "colab": {
          "base_uri": "https://localhost:8080/",
          "height": 594
        },
        "id": "v0HnMg3aHQqC",
        "outputId": "bfca5b88-6770-4cc5-fe0a-5d6b1a92800c"
      },
      "execution_count": null,
      "outputs": [
        {
          "output_type": "display_data",
          "data": {
            "text/plain": [
              "<Figure size 432x288 with 2 Axes>"
            ],
            "image/png": "[encoded data removed]"
          },
          "metadata": {
            "needs_background": "light"
          }
        },
        {
          "output_type": "stream",
          "name": "stdout",
          "text": [
            "\n",
            " Matriz de mejor acción-valor (en números): \n",
            "\n",
            " [[ -62.76023544  -61.55550806  -58.82311862  -53.17589653  -46.48634873\n",
            "   -39.31655288  -31.76826415  -28.33599999  -21.02052263  -11.14309808\n",
            "    -5.820722     -3.01112398]\n",
            " [ -53.85892161  -57.5737143   -46.87655159  -47.45692683  -47.5488361\n",
            "   -53.3416566   -44.78311285  -43.02229819  -48.71717316  -42.13730698\n",
            "   -16.69861295   -2.00000972]\n",
            " [ -65.61003316  -59.97706914  -65.74353177  -86.75776614  -95.89135092\n",
            "   -77.91578905  -57.35695429  -44.26101507  -40.12523518  -48.9949623\n",
            "   -73.54377283   -1.        ]\n",
            " [ -64.08128741 -100.         -100.         -100.         -100.\n",
            "  -100.         -100.         -100.         -100.         -100.\n",
            "  -100.           -1.        ]]\n",
            "time: 327 ms (started: 2022-10-11 03:04:16 +00:00)\n"
          ]
        }
      ]
    },
    {
      "cell_type": "markdown",
      "source": [
        "\n",
        "###**2. Implementar y ejecutar el algoritmo Q-Learning en \"The Cliff\". ¿Cómo converge con respecto a SARSA? ¿A qué se debe? Comentar.**\n"
      ],
      "metadata": {
        "id": "udY2P-kIFc_U"
      }
    },
    {
      "cell_type": "code",
      "source": [
        "def learnQLEARN(state, action, reward, next_state, next_action):\n",
        "    \"\"\"\n",
        "    Q-learm update for a given state transition\n",
        "    \"\"\"\n",
        "    # TODO - completa con tu código aquí\n",
        "    predict = q.get((state, action),0.0)\n",
        "    q_values = [q.get((next_state, a), 0.0) for a in actions]\n",
        "    max_q = max(q_values)\n",
        "    target = reward + gamma * max_q #La politica optima de la tabla q para esa accion \n",
        "    q[(state,action)] = predict + alpha * (target-predict)\n",
        "    pass"
      ],
      "metadata": {
        "colab": {
          "base_uri": "https://localhost:8080/"
        },
        "id": "511R-MgYHYcx",
        "outputId": "21b31554-0516-4704-887c-b4ff40102e2c"
      },
      "execution_count": null,
      "outputs": [
        {
          "output_type": "stream",
          "name": "stdout",
          "text": [
            "time: 1.35 ms (started: 2022-10-11 03:04:17 +00:00)\n"
          ]
        }
      ]
    },
    {
      "cell_type": "code",
      "source": [
        "# Creamos el diccionario que contendrá los valores de Q para cada tupla (estado, acción)\n",
        "q = {}\n",
        "\n",
        "# definimos sus híper-parámetros básicos\n",
        "\n",
        "alpha = 0.5\n",
        "gamma = 1\n",
        "epsilon = 0.1\n",
        "tau = 25\n",
        "\n",
        "episodes_to_run = 500\n",
        "\n",
        "env = gym.make(\"CliffWalking-v0\")\n",
        "actions = range(env.action_space.n)\n",
        "\n",
        "# se declara una semilla aleatoria\n",
        "random_state = np.random.RandomState(42)\n"
      ],
      "metadata": {
        "colab": {
          "base_uri": "https://localhost:8080/"
        },
        "id": "amabnVJtHYE7",
        "outputId": "cfaf91a8-bbb2-4b1d-c3d8-1db5d8ef6756"
      },
      "execution_count": null,
      "outputs": [
        {
          "output_type": "stream",
          "name": "stdout",
          "text": [
            "time: 10.7 ms (started: 2022-10-11 03:04:17 +00:00)\n"
          ]
        },
        {
          "output_type": "stream",
          "name": "stderr",
          "text": [
            "/usr/local/lib/python3.7/dist-packages/gym/core.py:318: DeprecationWarning: \u001b[33mWARN: Initializing wrapper in old step API which returns one bool instead of two. It is recommended to set `new_step_api=True` to use new step API. This will be the default behaviour in future.\u001b[0m\n",
            "  \"Initializing wrapper in old step API which returns one bool instead of two. It is recommended to set `new_step_api=True` to use new step API. This will be the default behaviour in future.\"\n",
            "/usr/local/lib/python3.7/dist-packages/gym/wrappers/step_api_compatibility.py:40: DeprecationWarning: \u001b[33mWARN: Initializing environment in old step API which returns one bool instead of two. It is recommended to set `new_step_api=True` to use new step API. This will be the default behaviour in future.\u001b[0m\n",
            "  \"Initializing environment in old step API which returns one bool instead of two. It is recommended to set `new_step_api=True` to use new step API. This will be the default behaviour in future.\"\n"
          ]
        }
      ]
    },
    {
      "cell_type": "code",
      "source": [
        "def run():\n",
        "    \"\"\"\n",
        "    Runs the reinforcement learning agent with a given configuration.\n",
        "    \"\"\"\n",
        "    # list that contains the amount of time-steps of the episode. It is used as a way to score the performance of\n",
        "    # the agent.\n",
        "    timesteps_of_episode = []\n",
        "    # list that contains the amount of reward given to the agent in each episode\n",
        "    reward_of_episode = []\n",
        "\n",
        "    for i_episode in range(episodes_to_run):\n",
        "        # an instance of an episode is run until it fails or until it reaches 200 time-steps\n",
        "\n",
        "        # resets the environment, obtaining the first state observation\n",
        "        state = env.reset()\n",
        "\n",
        "        episode_reward = 0\n",
        "        done = False\n",
        "        t = 0\n",
        "\n",
        "        # Pick an action based on the current state\n",
        "        action = choose_action(state)\n",
        "        #action = random_state.choice(actions)\n",
        "        \n",
        "        while not done:\n",
        "\n",
        "            # Execute the action and get feedback\n",
        "            next_state, reward, done, info = env.step(action)\n",
        "            \n",
        "            next_action = choose_action(state)\n",
        "            #next_action = random_state.choice(actions)\n",
        "            \n",
        "            episode_reward += reward\n",
        "\n",
        "            if not done and t < 2000:  # if the algorithm does not converge, it stops after 2000 timesteps\n",
        "                learnQLEARN(state, action, reward, next_state, next_action)\n",
        "                state = next_state\n",
        "                action = next_action\n",
        "            else:\n",
        "                done = True  # done is ensured to be True (in the case the algorithm did not reach convergence)\n",
        "                learnQLEARN(state, action, reward, next_state, next_action)\n",
        "                timesteps_of_episode = np.append(timesteps_of_episode, [int(t + 1)])\n",
        "                reward_of_episode = np.append(reward_of_episode, max(episode_reward, -100))\n",
        "\n",
        "            t += 1\n",
        "\n",
        "    return reward_of_episode.mean(), timesteps_of_episode, reward_of_episode"
      ],
      "metadata": {
        "colab": {
          "base_uri": "https://localhost:8080/"
        },
        "id": "aqg5uV5LBIW2",
        "outputId": "386c26fe-3ecb-439d-e350-2d52269d0d59"
      },
      "execution_count": null,
      "outputs": [
        {
          "output_type": "stream",
          "name": "stdout",
          "text": [
            "time: 4.14 ms (started: 2022-10-11 03:04:17 +00:00)\n"
          ]
        }
      ]
    },
    {
      "cell_type": "code",
      "source": [
        "# Ejecutamos el agente\n",
        "avg_steps_per_episode, timesteps_ep, reward_ep = run()"
      ],
      "metadata": {
        "colab": {
          "base_uri": "https://localhost:8080/"
        },
        "id": "rYWqk0W3HpaZ",
        "outputId": "e12c948f-2c8d-482b-c773-2b4b614e196d"
      },
      "execution_count": null,
      "outputs": [
        {
          "output_type": "stream",
          "name": "stdout",
          "text": [
            "time: 1.16 s (started: 2022-10-11 03:04:17 +00:00)\n"
          ]
        }
      ]
    },
    {
      "cell_type": "code",
      "source": [
        "# Ploteamos el reward a lo largo de los episodios en forma acumulada\n",
        "plot_reward_per_episode(reward_ep)"
      ],
      "metadata": {
        "colab": {
          "base_uri": "https://localhost:8080/",
          "height": 299
        },
        "id": "UKAeQXZuHsfA",
        "outputId": "acd6084c-1975-47f8-9fda-b565788560aa"
      },
      "execution_count": null,
      "outputs": [
        {
          "output_type": "display_data",
          "data": {
            "text/plain": [
              "<Figure size 432x288 with 1 Axes>"
            ],
            "image/png": "[encoded data removed]"
          },
          "metadata": {
            "needs_background": "light"
          }
        },
        {
          "output_type": "stream",
          "name": "stdout",
          "text": [
            "time: 139 ms (started: 2022-10-11 03:04:18 +00:00)\n"
          ]
        }
      ]
    },
    {
      "cell_type": "code",
      "source": [
        "# Ploteamos el reward para cada episodio\n",
        "plot_steps_per_episode(timesteps_ep)"
      ],
      "metadata": {
        "colab": {
          "base_uri": "https://localhost:8080/",
          "height": 299
        },
        "id": "0x8FhcFfH-4L",
        "outputId": "16c46032-f613-4033-9761-c6d84b993db2"
      },
      "execution_count": null,
      "outputs": [
        {
          "output_type": "display_data",
          "data": {
            "text/plain": [
              "<Figure size 432x288 with 1 Axes>"
            ],
            "image/png": "[encoded data removed]"
          },
          "metadata": {
            "needs_background": "light"
          }
        },
        {
          "output_type": "stream",
          "name": "stdout",
          "text": [
            "time: 229 ms (started: 2022-10-11 03:04:18 +00:00)\n"
          ]
        }
      ]
    },
    {
      "cell_type": "code",
      "source": [
        "#Ploteamos pasos acumulados por episodio\n",
        "plot_steps_per_episode_smooth(timesteps_ep)"
      ],
      "metadata": {
        "colab": {
          "base_uri": "https://localhost:8080/",
          "height": 299
        },
        "id": "LeMNA12BICUz",
        "outputId": "97a17b92-d156-4950-b9e8-35de7cf2172e"
      },
      "execution_count": null,
      "outputs": [
        {
          "output_type": "display_data",
          "data": {
            "text/plain": [
              "<Figure size 432x288 with 1 Axes>"
            ],
            "image/png": "[encoded data removed]"
          },
          "metadata": {
            "needs_background": "light"
          }
        },
        {
          "output_type": "stream",
          "name": "stdout",
          "text": [
            "time: 149 ms (started: 2022-10-11 03:04:18 +00:00)\n"
          ]
        }
      ]
    },
    {
      "cell_type": "code",
      "source": [
        "draw_value_matrix(q)"
      ],
      "metadata": {
        "colab": {
          "base_uri": "https://localhost:8080/",
          "height": 594
        },
        "id": "LyRMPYLEIGEF",
        "outputId": "87e8f53a-61c7-4230-b180-a5846ca76407"
      },
      "execution_count": null,
      "outputs": [
        {
          "output_type": "display_data",
          "data": {
            "text/plain": [
              "<Figure size 432x288 with 2 Axes>"
            ],
            "image/png": "[encoded data removed]"
          },
          "metadata": {
            "needs_background": "light"
          }
        },
        {
          "output_type": "stream",
          "name": "stdout",
          "text": [
            "\n",
            " Matriz de mejor acción-valor (en números): \n",
            "\n",
            " [[ -12.27920205  -11.27926317  -10.27926317   -9.27926317   -9.77803864\n",
            "    -8.77804074   -7.77804126   -6.7780413    -5.7780413    -4.7780413\n",
            "    -3.96046436   -2.99999998]\n",
            " [ -12.98821985  -11.98821985  -10.98821985   -9.98821985   -8.98821985\n",
            "    -7.98821985   -6.98821985   -5.98821985   -4.98821985   -3.99999997\n",
            "    -2.99999999   -2.        ]\n",
            " [ -12.          -11.          -10.           -9.           -8.\n",
            "    -7.           -6.           -5.           -4.           -3.\n",
            "    -2.           -1.        ]\n",
            " [ -13.         -100.         -100.         -100.         -100.\n",
            "  -100.         -100.         -100.         -100.         -100.\n",
            "  -100.           -1.        ]]\n",
            "time: 285 ms (started: 2022-10-11 03:04:19 +00:00)\n"
          ]
        }
      ]
    },
    {
      "cell_type": "code",
      "source": [
        "env.close()"
      ],
      "metadata": {
        "colab": {
          "base_uri": "https://localhost:8080/"
        },
        "id": "zhD9HRkSIF02",
        "outputId": "07fe8b45-60ba-4f20-bb50-95fa231085db"
      },
      "execution_count": null,
      "outputs": [
        {
          "output_type": "stream",
          "name": "stdout",
          "text": [
            "time: 559 µs (started: 2022-10-11 03:04:19 +00:00)\n"
          ]
        }
      ]
    },
    {
      "cell_type": "markdown",
      "source": [
        "\n",
        "3. Ejecutando con distintos híper-parámetros, realizar una breve descripción sobre cómo afectan a la convergencia los distintos valores de $\\alpha$, $\\epsilon$ y $\\gamma$.\n"
      ],
      "metadata": {
        "id": "pNmGqRgOHZSq"
      }
    },
    {
      "cell_type": "code",
      "source": [
        "q = {}\n",
        "\n",
        "# Definimos nuevos híper-parámetros para evaluar sus resultados\n",
        "\n",
        "alpha = 1 # Antes 0.5\n",
        "gamma = 0.8 # Antes 1\n",
        "epsilon = 0.2 # Antes 0.1\n",
        "tau = 50 # Antes 25\n",
        "\n",
        "episodes_to_run = 500\n",
        "\n",
        "env = gym.make(\"CliffWalking-v0\")\n",
        "actions = range(env.action_space.n)\n",
        "\n",
        "# se declara una semilla aleatoria\n",
        "random_state = np.random.RandomState(42)"
      ],
      "metadata": {
        "colab": {
          "base_uri": "https://localhost:8080/"
        },
        "id": "fav20nwGIZnZ",
        "outputId": "30551f7d-e210-4f7d-c560-6e9934e817be"
      },
      "execution_count": null,
      "outputs": [
        {
          "output_type": "stream",
          "name": "stdout",
          "text": [
            "time: 11.1 ms (started: 2022-10-11 03:04:19 +00:00)\n"
          ]
        },
        {
          "output_type": "stream",
          "name": "stderr",
          "text": [
            "/usr/local/lib/python3.7/dist-packages/gym/core.py:318: DeprecationWarning: \u001b[33mWARN: Initializing wrapper in old step API which returns one bool instead of two. It is recommended to set `new_step_api=True` to use new step API. This will be the default behaviour in future.\u001b[0m\n",
            "  \"Initializing wrapper in old step API which returns one bool instead of two. It is recommended to set `new_step_api=True` to use new step API. This will be the default behaviour in future.\"\n",
            "/usr/local/lib/python3.7/dist-packages/gym/wrappers/step_api_compatibility.py:40: DeprecationWarning: \u001b[33mWARN: Initializing environment in old step API which returns one bool instead of two. It is recommended to set `new_step_api=True` to use new step API. This will be the default behaviour in future.\u001b[0m\n",
            "  \"Initializing environment in old step API which returns one bool instead of two. It is recommended to set `new_step_api=True` to use new step API. This will be the default behaviour in future.\"\n"
          ]
        }
      ]
    },
    {
      "cell_type": "code",
      "source": [],
      "metadata": {
        "id": "Fk2-XBj1BXFD",
        "colab": {
          "base_uri": "https://localhost:8080/"
        },
        "outputId": "803b4f2e-602c-4b54-c0fa-4c17cfff8d58"
      },
      "execution_count": null,
      "outputs": [
        {
          "output_type": "stream",
          "name": "stdout",
          "text": [
            "time: 27.9 ms (started: 2022-10-11 03:04:19 +00:00)\n"
          ]
        }
      ]
    },
    {
      "cell_type": "code",
      "source": [
        "# Ejecutamos el agente\n",
        "avg_steps_per_episode, timesteps_ep, reward_ep = run()"
      ],
      "metadata": {
        "colab": {
          "base_uri": "https://localhost:8080/"
        },
        "id": "QDvkjmhcIZPz",
        "outputId": "0c7271fa-d3c5-4a46-eb41-d0566cebe753"
      },
      "execution_count": null,
      "outputs": [
        {
          "output_type": "stream",
          "name": "stdout",
          "text": [
            "time: 1.34 s (started: 2022-10-11 03:04:19 +00:00)\n"
          ]
        }
      ]
    },
    {
      "cell_type": "code",
      "source": [
        "# Ploteamos el reward a lo largo de los episodios en forma acumulada\n",
        "plot_reward_per_episode(reward_ep)"
      ],
      "metadata": {
        "colab": {
          "base_uri": "https://localhost:8080/",
          "height": 299
        },
        "id": "ePfwcFC9IZBm",
        "outputId": "93671b69-f1c3-415c-e48b-af331d60f3c6"
      },
      "execution_count": null,
      "outputs": [
        {
          "output_type": "display_data",
          "data": {
            "text/plain": [
              "<Figure size 432x288 with 1 Axes>"
            ],
            "image/png": "[encoded data removed]"
          },
          "metadata": {
            "needs_background": "light"
          }
        },
        {
          "output_type": "stream",
          "name": "stdout",
          "text": [
            "time: 154 ms (started: 2022-10-11 03:04:20 +00:00)\n"
          ]
        }
      ]
    },
    {
      "cell_type": "code",
      "source": [
        "# Ploteamos el reward para cada episodio\n",
        "plot_steps_per_episode(timesteps_ep)"
      ],
      "metadata": {
        "colab": {
          "base_uri": "https://localhost:8080/",
          "height": 299
        },
        "id": "ZbiW5SaNIjtY",
        "outputId": "951fbd40-c61a-4ce4-e6ad-24c69c4f3a2a"
      },
      "execution_count": null,
      "outputs": [
        {
          "output_type": "display_data",
          "data": {
            "text/plain": [
              "<Figure size 432x288 with 1 Axes>"
            ],
            "image/png": "[encoded data removed]"
          },
          "metadata": {
            "needs_background": "light"
          }
        },
        {
          "output_type": "stream",
          "name": "stdout",
          "text": [
            "time: 164 ms (started: 2022-10-11 03:04:20 +00:00)\n"
          ]
        }
      ]
    },
    {
      "cell_type": "code",
      "source": [
        "#Ploteamos pasos acumulados por episodio\n",
        "plot_steps_per_episode_smooth(timesteps_ep)"
      ],
      "metadata": {
        "colab": {
          "base_uri": "https://localhost:8080/",
          "height": 299
        },
        "id": "e4bXektOIqDq",
        "outputId": "f30e2ae2-336b-422a-b1e1-f0c9d497ff83"
      },
      "execution_count": null,
      "outputs": [
        {
          "output_type": "display_data",
          "data": {
            "text/plain": [
              "<Figure size 432x288 with 1 Axes>"
            ],
            "image/png": "[encoded data removed]"
          },
          "metadata": {
            "needs_background": "light"
          }
        },
        {
          "output_type": "stream",
          "name": "stdout",
          "text": [
            "time: 146 ms (started: 2022-10-11 03:04:21 +00:00)\n"
          ]
        }
      ]
    },
    {
      "cell_type": "code",
      "source": [
        "#Graficamos matriz accion-valor\n",
        "draw_value_matrix(q)"
      ],
      "metadata": {
        "colab": {
          "base_uri": "https://localhost:8080/",
          "height": 594
        },
        "id": "a1MpEACsIsZM",
        "outputId": "46fef0d4-87a2-42c1-ec4f-eb76eb596a20"
      },
      "execution_count": null,
      "outputs": [
        {
          "output_type": "display_data",
          "data": {
            "text/plain": [
              "<Figure size 432x288 with 2 Axes>"
            ],
            "image/png": "[encoded data removed]"
          },
          "metadata": {
            "needs_background": "light"
          }
        },
        {
          "output_type": "stream",
          "name": "stdout",
          "text": [
            "\n",
            " Matriz de mejor acción-valor (en números): \n",
            "\n",
            " [[  -4.78009767   -4.72512209   -4.65640262   -4.57050327   -4.46312909\n",
            "    -4.32891136   -4.1611392    -3.951424     -3.68928      -3.3616\n",
            "    -2.952        -2.44      ]\n",
            " [  -4.72512209   -4.65640262   -4.57050327   -4.46312909   -4.32891136\n",
            "    -4.1611392    -3.951424     -3.68928      -3.3616       -2.952\n",
            "    -2.44         -1.8       ]\n",
            " [  -4.65640262   -4.57050327   -4.46312909   -4.32891136   -4.1611392\n",
            "    -3.951424     -3.68928      -3.3616       -2.952        -2.44\n",
            "    -1.8          -1.        ]\n",
            " [  -4.72512209 -100.         -100.         -100.         -100.\n",
            "  -100.         -100.         -100.         -100.         -100.\n",
            "  -100.           -1.        ]]\n",
            "time: 307 ms (started: 2022-10-11 03:04:21 +00:00)\n"
          ]
        }
      ]
    },
    {
      "cell_type": "code",
      "source": [
        "env.close()"
      ],
      "metadata": {
        "colab": {
          "base_uri": "https://localhost:8080/"
        },
        "id": "zMTPR0T1-2-Z",
        "outputId": "5a74f6be-7870-4e43-aa3b-33783e830af4"
      },
      "execution_count": null,
      "outputs": [
        {
          "output_type": "stream",
          "name": "stdout",
          "text": [
            "time: 824 µs (started: 2022-10-11 03:04:21 +00:00)\n"
          ]
        }
      ]
    },
    {
      "cell_type": "markdown",
      "source": [
        "\n",
        "###**4. (Opcional) Implementar política de exploración Softmax, en donde cada acción tiene una probabilidad** $$\\pi(a \\mid s) = \\frac{e^{Q(s,a)/\\tau}}{\\sum_{\\widetilde{a} \\in A}e^{Q(s,\\widetilde{a})/\\tau}}$$\n"
      ],
      "metadata": {
        "id": "6biRxpSjIUpq"
      }
    },
    {
      "cell_type": "code",
      "source": [
        "import math\n",
        "def softmax_choose_action(state):\n",
        "    \"\"\"\n",
        "    Chooses an action according to the learning previously performed \n",
        "    using an softmax exploration policy\n",
        "    \"\"\"\n",
        "    q_values = [q.get((state, a), 0.0) for a in actions]\n",
        "    values_exp = [math.exp(v/tau) for v in q_values]\n",
        "    \n",
        "    #while values_exp !=0:\n",
        "    sum_exp = sum(values_exp)\n",
        "    if sum_exp==0:\n",
        "      print(sum_exp)\n",
        "    \n",
        "    softmax = [v/sum_exp for v in values_exp]\n",
        "    #Find the number that is closest to the random generated value\n",
        "    cum_sum_softmax = np.cumsum(softmax)\n",
        "    n = random_state.uniform()\n",
        "    for i in range(len(actions)):\n",
        "        if cum_sum_softmax[i] >= n:\n",
        "            action = actions[i]\n",
        "            break\n",
        "            \n",
        "    \n",
        "    return action\n",
        " "
      ],
      "metadata": {
        "colab": {
          "base_uri": "https://localhost:8080/"
        },
        "id": "VS1oY4y9IN2-",
        "outputId": "a5baa440-d8b2-43da-a176-140ff03d69e3"
      },
      "execution_count": null,
      "outputs": [
        {
          "output_type": "stream",
          "name": "stdout",
          "text": [
            "time: 1.87 ms (started: 2022-10-11 03:04:21 +00:00)\n"
          ]
        }
      ]
    },
    {
      "cell_type": "code",
      "source": [
        "n = random_state.uniform()\n",
        "print(n)"
      ],
      "metadata": {
        "colab": {
          "base_uri": "https://localhost:8080/"
        },
        "id": "nAQ0aCmAUAYq",
        "outputId": "9bad340c-6253-4325-a9ef-2a410a447b59"
      },
      "execution_count": null,
      "outputs": [
        {
          "output_type": "stream",
          "name": "stdout",
          "text": [
            "0.040707173612521186\n",
            "time: 1.08 ms (started: 2022-10-11 03:04:21 +00:00)\n"
          ]
        }
      ]
    },
    {
      "cell_type": "markdown",
      "source": [
        "###Implementamos la política Sofmax para Sarsa"
      ],
      "metadata": {
        "id": "bpScjmiw5Tg6"
      }
    },
    {
      "cell_type": "code",
      "source": [
        "def learnSARSA(state, action, reward, next_state, next_action):\n",
        "    \"\"\"\n",
        "    Performs a SARSA update for a given state transition\n",
        "    \"\"\"\n",
        "    \n",
        "    # TODO - completa con tu código aquí\n",
        "    predict = q.get((state, action),0.0)\n",
        "    target = reward + gamma * q.get((next_state, next_action),0.0) \n",
        "    q[(state,action)] = predict + alpha*(target-predict)\n",
        "    pass\n"
      ],
      "metadata": {
        "colab": {
          "base_uri": "https://localhost:8080/"
        },
        "id": "Sh9CSsHhI0Q6",
        "outputId": "2199d274-2395-49c1-cce2-30df85f71b61"
      },
      "execution_count": null,
      "outputs": [
        {
          "output_type": "stream",
          "name": "stdout",
          "text": [
            "time: 1.39 ms (started: 2022-10-11 03:04:21 +00:00)\n"
          ]
        }
      ]
    },
    {
      "cell_type": "code",
      "source": [
        "# Creamos el diccionario que contendrá los valores de Q para cada tupla (estado, acción)\n",
        "q = {}\n",
        "\n",
        "# definimos sus híper-parámetros básicos\n",
        "\n",
        "alpha = 0.5\n",
        "gamma = 1\n",
        "epsilon = 0.1\n",
        "tau = 25\n",
        "\n",
        "episodes_to_run = 500\n",
        "\n",
        "env = gym.make(\"CliffWalking-v0\")\n",
        "actions = range(env.action_space.n)\n",
        "\n",
        "# se declara una semilla aleatoria\n",
        "random_state = np.random.RandomState(42)\n"
      ],
      "metadata": {
        "colab": {
          "base_uri": "https://localhost:8080/"
        },
        "id": "3WPxfU97csaX",
        "outputId": "c4d02b0e-b637-49d8-cf47-3ea0be7a26d9"
      },
      "execution_count": null,
      "outputs": [
        {
          "output_type": "stream",
          "name": "stdout",
          "text": [
            "time: 12.1 ms (started: 2022-10-11 03:04:21 +00:00)\n"
          ]
        },
        {
          "output_type": "stream",
          "name": "stderr",
          "text": [
            "/usr/local/lib/python3.7/dist-packages/gym/core.py:318: DeprecationWarning: \u001b[33mWARN: Initializing wrapper in old step API which returns one bool instead of two. It is recommended to set `new_step_api=True` to use new step API. This will be the default behaviour in future.\u001b[0m\n",
            "  \"Initializing wrapper in old step API which returns one bool instead of two. It is recommended to set `new_step_api=True` to use new step API. This will be the default behaviour in future.\"\n",
            "/usr/local/lib/python3.7/dist-packages/gym/wrappers/step_api_compatibility.py:40: DeprecationWarning: \u001b[33mWARN: Initializing environment in old step API which returns one bool instead of two. It is recommended to set `new_step_api=True` to use new step API. This will be the default behaviour in future.\u001b[0m\n",
            "  \"Initializing environment in old step API which returns one bool instead of two. It is recommended to set `new_step_api=True` to use new step API. This will be the default behaviour in future.\"\n"
          ]
        }
      ]
    },
    {
      "cell_type": "code",
      "source": [
        "#SARSA CON POLITICA SOFTMAX\n",
        "def run():\n",
        "    \"\"\"\n",
        "    Runs the reinforcement learning agent with a given configuration.\n",
        "    \"\"\"\n",
        "    # list that contains the amount of time-steps of the episode. It is used as a way to score the performance of\n",
        "    # the agent.\n",
        "    timesteps_of_episode = []\n",
        "    # list that contains the amount of reward given to the agent in each episode\n",
        "    reward_of_episode = []\n",
        "\n",
        "    for i_episode in range(episodes_to_run):\n",
        "        # an instance of an episode is run until it fails or until it reaches 200 time-steps\n",
        "\n",
        "        # resets the environment, obtaining the first state observation\n",
        "        state = env.reset()\n",
        "\n",
        "        episode_reward = 0\n",
        "        done = False\n",
        "        t = 0\n",
        "\n",
        "        # Pick an action based on the current state\n",
        "        action = softmax_choose_action(state)\n",
        "        #action = random_state.choice(actions)\n",
        "        \n",
        "        while not done:\n",
        "\n",
        "            # Execute the action and get feedback\n",
        "            next_state, reward, done, info = env.step(action)\n",
        "            \n",
        "            next_action = softmax_choose_action(state)\n",
        "            #next_action = random_state.choice(actions)\n",
        "            \n",
        "            episode_reward += reward\n",
        "\n",
        "            if not done and t < 2000:  # if the algorithm does not converge, it stops after 2000 timesteps\n",
        "                learnSARSA(state, action, reward, next_state, next_action)\n",
        "                state = next_state\n",
        "                action = next_action\n",
        "            else:\n",
        "                done = True  # done is ensured to be True (in the case the algorithm did not reach convergence)\n",
        "                learnSARSA(state, action, reward, next_state, next_action)\n",
        "                timesteps_of_episode = np.append(timesteps_of_episode, [int(t + 1)])\n",
        "                reward_of_episode = np.append(reward_of_episode, max(episode_reward, -100))\n",
        "\n",
        "            t += 1\n",
        "\n",
        "    return reward_of_episode.mean(), timesteps_of_episode, reward_of_episode"
      ],
      "metadata": {
        "colab": {
          "base_uri": "https://localhost:8080/"
        },
        "id": "4QbMMB6fI5Vi",
        "outputId": "5f0b5bda-fd7c-4649-9b53-d09c12a254fd"
      },
      "execution_count": null,
      "outputs": [
        {
          "output_type": "stream",
          "name": "stdout",
          "text": [
            "time: 5.31 ms (started: 2022-10-11 03:04:21 +00:00)\n"
          ]
        }
      ]
    },
    {
      "cell_type": "code",
      "source": [
        "# Ejecutamos el agente\n",
        "avg_steps_per_episode, timesteps_ep, reward_ep = run()"
      ],
      "metadata": {
        "colab": {
          "base_uri": "https://localhost:8080/"
        },
        "id": "K8OnJdZccQHB",
        "outputId": "be50de2b-fb6c-4aa2-ddfb-9e9d6ef48852"
      },
      "execution_count": null,
      "outputs": [
        {
          "output_type": "stream",
          "name": "stdout",
          "text": [
            "time: 2.94 s (started: 2022-10-11 03:04:21 +00:00)\n"
          ]
        }
      ]
    },
    {
      "cell_type": "code",
      "source": [
        "# Ploteamos el reward a lo largo de los episodios en forma acumulada\n",
        "plot_reward_per_episode(reward_ep)"
      ],
      "metadata": {
        "colab": {
          "base_uri": "https://localhost:8080/",
          "height": 299
        },
        "id": "D_VQ950McVem",
        "outputId": "54713e0e-faed-417a-aecc-ba3061aa8ac8"
      },
      "execution_count": null,
      "outputs": [
        {
          "output_type": "display_data",
          "data": {
            "text/plain": [
              "<Figure size 432x288 with 1 Axes>"
            ],
            "image/png": "[encoded data removed]"
          },
          "metadata": {
            "needs_background": "light"
          }
        },
        {
          "output_type": "stream",
          "name": "stdout",
          "text": [
            "time: 308 ms (started: 2022-10-11 03:04:24 +00:00)\n"
          ]
        }
      ]
    },
    {
      "cell_type": "code",
      "source": [
        "# Ploteamos el reward para cada episodio\n",
        "plot_steps_per_episode(timesteps_ep)"
      ],
      "metadata": {
        "colab": {
          "base_uri": "https://localhost:8080/",
          "height": 299
        },
        "id": "KaUeZzrBZORb",
        "outputId": "cd22c747-2239-4d32-87ea-1d3030979429"
      },
      "execution_count": null,
      "outputs": [
        {
          "output_type": "display_data",
          "data": {
            "text/plain": [
              "<Figure size 432x288 with 1 Axes>"
            ],
            "image/png": "[encoded data removed]"
          },
          "metadata": {
            "needs_background": "light"
          }
        },
        {
          "output_type": "stream",
          "name": "stdout",
          "text": [
            "time: 305 ms (started: 2022-10-11 03:04:25 +00:00)\n"
          ]
        }
      ]
    },
    {
      "cell_type": "code",
      "source": [
        "#Graficamos pasos acumulados por episodio\n",
        "plot_steps_per_episode_smooth(timesteps_ep)"
      ],
      "metadata": {
        "colab": {
          "base_uri": "https://localhost:8080/",
          "height": 299
        },
        "id": "optBMv5q_XwS",
        "outputId": "f1e69ecc-1031-4611-f72b-10cf76ce4773"
      },
      "execution_count": null,
      "outputs": [
        {
          "output_type": "display_data",
          "data": {
            "text/plain": [
              "<Figure size 432x288 with 1 Axes>"
            ],
            "image/png": "[encoded data removed]"
          },
          "metadata": {
            "needs_background": "light"
          }
        },
        {
          "output_type": "stream",
          "name": "stdout",
          "text": [
            "time: 365 ms (started: 2022-10-11 03:04:25 +00:00)\n"
          ]
        }
      ]
    },
    {
      "cell_type": "code",
      "source": [
        "#Graficamos matriz acción-valor\n",
        "draw_value_matrix(q)"
      ],
      "metadata": {
        "colab": {
          "base_uri": "https://localhost:8080/",
          "height": 588
        },
        "id": "ziguhQ6v_Xhq",
        "outputId": "2863e501-4e6e-41a5-9101-cd2645f7e0a2"
      },
      "execution_count": null,
      "outputs": [
        {
          "output_type": "display_data",
          "data": {
            "text/plain": [
              "<Figure size 432x288 with 2 Axes>"
            ],
            "image/png": "[encoded data removed]"
          },
          "metadata": {
            "needs_background": "light"
          }
        },
        {
          "output_type": "stream",
          "name": "stdout",
          "text": [
            "\n",
            " Matriz de mejor acción-valor (en números): \n",
            "\n",
            " [[-161.58505255 -165.22173898 -162.85058073 -160.01549958 -147.26810173\n",
            "  -135.67241951 -122.85229761 -119.92403883  -87.41892221  -95.11001466\n",
            "   -75.44689357  -19.1667239 ]\n",
            " [-162.81290973 -162.28007581 -150.95961473 -140.65635791 -143.50407685\n",
            "  -129.06275835 -133.43196069  -95.29668315  -30.32845254  -18.85096365\n",
            "   -20.61418379   -4.5554406 ]\n",
            " [-165.32290522 -163.88496974 -142.65677304 -129.34017303 -125.71231456\n",
            "  -113.54595785 -111.51803031 -109.65904599  -99.44131629  -63.88617916\n",
            "   -75.26752609   -1.        ]\n",
            " [-168.81497081 -100.         -100.         -100.         -100.\n",
            "  -100.         -100.         -100.         -100.         -100.\n",
            "  -100.           -1.        ]]\n",
            "time: 632 ms (started: 2022-10-11 03:04:25 +00:00)\n"
          ]
        }
      ]
    },
    {
      "cell_type": "code",
      "source": [
        "env.close()"
      ],
      "metadata": {
        "colab": {
          "base_uri": "https://localhost:8080/"
        },
        "id": "TlNdytazqx9D",
        "outputId": "48aa7015-90f8-48d6-dc8f-cd2b4132c481"
      },
      "execution_count": null,
      "outputs": [
        {
          "output_type": "stream",
          "name": "stdout",
          "text": [
            "time: 2.5 ms (started: 2022-10-11 03:04:26 +00:00)\n"
          ]
        }
      ]
    },
    {
      "cell_type": "markdown",
      "source": [
        "###Implementamos la política Sofmax para el algoritmo Q-Learning "
      ],
      "metadata": {
        "id": "t_ZloCuRrOFA"
      }
    },
    {
      "cell_type": "code",
      "source": [
        "def learnQLEARN(state, action, reward, next_state, next_action):\n",
        "    \"\"\"\n",
        "    Q-learm update for a given state transition\n",
        "    \"\"\"\n",
        "    # TODO - completa con tu código aquí\n",
        "    predict = q.get((state, action),0.0)\n",
        "    q_values = [q.get((next_state, a), 0.0) for a in actions]\n",
        "    max_q = max(q_values)\n",
        "    target = reward + gamma * max_q #La politica optima de la tabla q para esa accion \n",
        "    q[(state,action)] = predict + alpha * (target-predict)\n",
        "    pass"
      ],
      "metadata": {
        "colab": {
          "base_uri": "https://localhost:8080/"
        },
        "id": "ZwYwogL-Gxj1",
        "outputId": "1fbc5c01-bd19-4e7e-99cc-2c9d8191c7b5"
      },
      "execution_count": null,
      "outputs": [
        {
          "output_type": "stream",
          "name": "stdout",
          "text": [
            "time: 2.3 ms (started: 2022-10-11 03:04:26 +00:00)\n"
          ]
        }
      ]
    },
    {
      "cell_type": "code",
      "source": [
        "# Creamos el diccionario que contendrá los valores de Q para cada tupla (estado, acción)\n",
        "q = {}\n",
        "\n",
        "# definimos sus híper-parámetros básicos\n",
        "\n",
        "alpha = 0.5\n",
        "gamma = 1\n",
        "epsilon = 0.1\n",
        "tau = 25\n",
        "\n",
        "episodes_to_run = 500\n",
        "\n",
        "env = gym.make(\"CliffWalking-v0\")\n",
        "actions = range(env.action_space.n)\n",
        "\n",
        "# se declara una semilla aleatoria\n",
        "random_state = np.random.RandomState(42)\n"
      ],
      "metadata": {
        "colab": {
          "base_uri": "https://localhost:8080/"
        },
        "outputId": "0ace7bd8-6bed-4b0c-c237-8312eb1272e2",
        "id": "P5izYQE0656p"
      },
      "execution_count": null,
      "outputs": [
        {
          "output_type": "stream",
          "name": "stdout",
          "text": [
            "time: 47.3 ms (started: 2022-10-11 03:04:26 +00:00)\n"
          ]
        },
        {
          "output_type": "stream",
          "name": "stderr",
          "text": [
            "/usr/local/lib/python3.7/dist-packages/gym/core.py:318: DeprecationWarning: \u001b[33mWARN: Initializing wrapper in old step API which returns one bool instead of two. It is recommended to set `new_step_api=True` to use new step API. This will be the default behaviour in future.\u001b[0m\n",
            "  \"Initializing wrapper in old step API which returns one bool instead of two. It is recommended to set `new_step_api=True` to use new step API. This will be the default behaviour in future.\"\n",
            "/usr/local/lib/python3.7/dist-packages/gym/wrappers/step_api_compatibility.py:40: DeprecationWarning: \u001b[33mWARN: Initializing environment in old step API which returns one bool instead of two. It is recommended to set `new_step_api=True` to use new step API. This will be the default behaviour in future.\u001b[0m\n",
            "  \"Initializing environment in old step API which returns one bool instead of two. It is recommended to set `new_step_api=True` to use new step API. This will be the default behaviour in future.\"\n"
          ]
        }
      ]
    },
    {
      "cell_type": "code",
      "source": [
        "def run():\n",
        "    \"\"\"\n",
        "    Runs the reinforcement learning agent with a given configuration.\n",
        "    \"\"\"\n",
        "    # list that contains the amount of time-steps of the episode. It is used as a way to score the performance of\n",
        "    # the agent.\n",
        "    timesteps_of_episode = []\n",
        "    # list that contains the amount of reward given to the agent in each episode\n",
        "    reward_of_episode = []\n",
        "\n",
        "    for i_episode in range(episodes_to_run):\n",
        "        # an instance of an episode is run until it fails or until it reaches 200 time-steps\n",
        "\n",
        "        # resets the environment, obtaining the first state observation\n",
        "        state = env.reset()\n",
        "\n",
        "        episode_reward = 0\n",
        "        done = False\n",
        "        t = 0\n",
        "\n",
        "        # Pick an action based on the current state\n",
        "        action = softmax_choose_action(state)\n",
        "        #action = random_state.choice(actions)\n",
        "        \n",
        "        while not done:\n",
        "\n",
        "            # Execute the action and get feedback\n",
        "            next_state, reward, done, info = env.step(action)\n",
        "            \n",
        "            next_action = softmax_choose_action(state)\n",
        "            #next_action = random_state.choice(actions)\n",
        "            \n",
        "            episode_reward += reward\n",
        "\n",
        "            if not done and t < 2000:  # if the algorithm does not converge, it stops after 2000 timesteps\n",
        "                learnQLEARN(state, action, reward, next_state, next_action)\n",
        "                state = next_state\n",
        "                action = next_action\n",
        "            else:\n",
        "                done = True  # done is ensured to be True (in the case the algorithm did not reach convergence)\n",
        "                learnQLEARN(state, action, reward, next_state, next_action)\n",
        "                timesteps_of_episode = np.append(timesteps_of_episode, [int(t + 1)])\n",
        "                reward_of_episode = np.append(reward_of_episode, max(episode_reward, -100))\n",
        "\n",
        "            t += 1\n",
        "\n",
        "    return reward_of_episode.mean(), timesteps_of_episode, reward_of_episode"
      ],
      "metadata": {
        "colab": {
          "base_uri": "https://localhost:8080/"
        },
        "id": "Sz6BsgblEDCH",
        "outputId": "b9a2d7b4-5b39-4886-8cd8-882d382fdd7f"
      },
      "execution_count": null,
      "outputs": [
        {
          "output_type": "stream",
          "name": "stdout",
          "text": [
            "time: 12.9 ms (started: 2022-10-11 03:04:26 +00:00)\n"
          ]
        }
      ]
    },
    {
      "cell_type": "code",
      "source": [
        "# Ejecutamos el agente\n",
        "avg_steps_per_episode, timesteps_ep, reward_ep = run()"
      ],
      "metadata": {
        "colab": {
          "base_uri": "https://localhost:8080/"
        },
        "id": "-sffWiCA7pg7",
        "outputId": "a3e0d2b4-fd74-4b6b-ae7f-dda18cea85a3"
      },
      "execution_count": null,
      "outputs": [
        {
          "output_type": "stream",
          "name": "stdout",
          "text": [
            "time: 30.9 s (started: 2022-10-11 03:04:26 +00:00)\n"
          ]
        }
      ]
    },
    {
      "cell_type": "code",
      "source": [
        "# Ploteamos el reward a lo largo de los episodios en forma acumulada\n",
        "plot_reward_per_episode(reward_ep)"
      ],
      "metadata": {
        "colab": {
          "base_uri": "https://localhost:8080/",
          "height": 299
        },
        "id": "fNVgquTg7vGa",
        "outputId": "baf81f41-a6b2-4746-d536-ee7f061a66b9"
      },
      "execution_count": null,
      "outputs": [
        {
          "output_type": "display_data",
          "data": {
            "text/plain": [
              "<Figure size 432x288 with 1 Axes>"
            ],
            "image/png": "[encoded data removed]"
          },
          "metadata": {
            "needs_background": "light"
          }
        },
        {
          "output_type": "stream",
          "name": "stdout",
          "text": [
            "time: 141 ms (started: 2022-10-11 03:04:57 +00:00)\n"
          ]
        }
      ]
    },
    {
      "cell_type": "code",
      "source": [
        "# Ploteamos el reward para cada episodio\n",
        "plot_steps_per_episode(timesteps_ep)"
      ],
      "metadata": {
        "colab": {
          "base_uri": "https://localhost:8080/",
          "height": 299
        },
        "id": "H73blyfg_PBG",
        "outputId": "18b97323-78df-4d8e-8b66-106ac4ce5911"
      },
      "execution_count": null,
      "outputs": [
        {
          "output_type": "display_data",
          "data": {
            "text/plain": [
              "<Figure size 432x288 with 1 Axes>"
            ],
            "image/png": "[encoded data removed]"
          },
          "metadata": {
            "needs_background": "light"
          }
        },
        {
          "output_type": "stream",
          "name": "stdout",
          "text": [
            "time: 160 ms (started: 2022-10-11 03:04:57 +00:00)\n"
          ]
        }
      ]
    },
    {
      "cell_type": "code",
      "source": [
        "#Graficamos pasos acumulados por episodio\n",
        "plot_steps_per_episode_smooth(timesteps_ep)"
      ],
      "metadata": {
        "colab": {
          "base_uri": "https://localhost:8080/",
          "height": 299
        },
        "id": "Ref_cKxu-Ddo",
        "outputId": "c90eb24a-d6f2-477d-e517-75531ee8652c"
      },
      "execution_count": null,
      "outputs": [
        {
          "output_type": "display_data",
          "data": {
            "text/plain": [
              "<Figure size 432x288 with 1 Axes>"
            ],
            "image/png": "[encoded data removed]"
          },
          "metadata": {
            "needs_background": "light"
          }
        },
        {
          "output_type": "stream",
          "name": "stdout",
          "text": [
            "time: 170 ms (started: 2022-10-11 03:04:57 +00:00)\n"
          ]
        }
      ]
    },
    {
      "cell_type": "code",
      "source": [
        "#Graficamos matriz acción-valor\n",
        "draw_value_matrix(q)"
      ],
      "metadata": {
        "colab": {
          "base_uri": "https://localhost:8080/",
          "height": 448
        },
        "id": "LK-6yBRD-DRT",
        "outputId": "5c9889eb-d677-4a9e-c6b7-1bce579f9375"
      },
      "execution_count": null,
      "outputs": [
        {
          "output_type": "display_data",
          "data": {
            "text/plain": [
              "<Figure size 432x288 with 2 Axes>"
            ],
            "image/png": "[encoded data removed]"
          },
          "metadata": {
            "needs_background": "light"
          }
        },
        {
          "output_type": "stream",
          "name": "stdout",
          "text": [
            "\n",
            " Matriz de mejor acción-valor (en números): \n",
            "\n",
            " [[ -14.  -13.  -12.  -11.  -10.   -9.   -8.   -7.   -6.   -5.   -4.   -3.]\n",
            " [ -13.  -12.  -11.  -10.   -9.   -8.   -7.   -6.   -5.   -4.   -3.   -2.]\n",
            " [ -12.  -11.  -10.   -9.   -8.   -7.   -6.   -5.   -4.   -3.   -2.   -1.]\n",
            " [ -13. -100. -100. -100. -100. -100. -100. -100. -100. -100. -100.   -1.]]\n",
            "time: 293 ms (started: 2022-10-11 03:04:58 +00:00)\n"
          ]
        }
      ]
    },
    {
      "cell_type": "markdown",
      "source": [
        "\n",
        "5. (Opcional) Implementar Dyna-Q a partir del algoritmo Q-Learning, incorporando una actualización mediante un modelo. Comentar cómo se desempeña respecto a los demás algoritmos.\n",
        "\n",
        "\n",
        "Para dejar el lab listo para su corrección, dejar link a repo de Github con un notebook ejecutando el agente en la planilla enviada en Slack."
      ],
      "metadata": {
        "id": "N9Kh30SHIL4H"
      }
    },
    {
      "cell_type": "code",
      "source": [],
      "metadata": {
        "id": "doxo0zeEBJG0"
      },
      "execution_count": null,
      "outputs": []
    }
  ],
  "metadata": {
    "celltoolbar": "Edit Metadata",
    "colab": {
      "provenance": [],
      "collapsed_sections": [
        "LgNpJUV9GS47",
        "QI7pxgtoGS49",
        "udY2P-kIFc_U"
      ],
      "include_colab_link": true
    },
    "kernelspec": {
      "display_name": "Python 3",
      "language": "python",
      "name": "python3"
    },
    "language_info": {
      "codemirror_mode": {
        "name": "ipython",
        "version": 3
      },
      "file_extension": ".py",
      "mimetype": "text/x-python",
      "name": "python",
      "nbconvert_exporter": "python",
      "pygments_lexer": "ipython3",
      "version": "3.8.8"
    }
  },
  "nbformat": 4,
  "nbformat_minor": 0
}